{
 "cells": [
  {
   "cell_type": "code",
   "execution_count": 110,
   "metadata": {},
   "outputs": [],
   "source": [
    "# Imports\n",
    "import functools as ft\n",
    "from pathlib import Path\n",
    "\n",
    "import diffrax as dfx\n",
    "import equinox as eqx\n",
    "import jax\n",
    "import jax.numpy as jnp\n",
    "import jax.random as jr\n",
    "import jax.random as random\n",
    "import matplotlib.pyplot as plt\n",
    "import optax\n",
    "from sklearn.model_selection import train_test_split\n",
    "from jaxtyping import PRNGKeyArray"
   ]
  },
  {
   "cell_type": "code",
   "execution_count": 76,
   "metadata": {},
   "outputs": [],
   "source": [
    "# Constants and Config\n",
    "T = jnp.array(1000)\n",
    "BETA_MIN = jnp.array(0.1) / T\n",
    "BETA_MAX = jnp.array(20) / T\n",
    "\n",
    "LEARNING_RATE = 1e3\n",
    "\n",
    "key = random.PRNGKey(100)"
   ]
  },
  {
   "cell_type": "code",
   "execution_count": 74,
   "metadata": {},
   "outputs": [],
   "source": [
    "# Load data\n",
    "data_path = Path().absolute().parent / \"superconductor\"\n",
    "\n",
    "x_files = sorted(data_path.glob(\"*x*.npy\"))\n",
    "y_files = sorted(data_path.glob(\"*y*.npy\"))\n",
    "\n",
    "x_data = jnp.vstack([jnp.load(file) for file in x_files])\n",
    "y_data = jnp.vstack([jnp.load(file) for file in y_files])"
   ]
  },
  {
   "cell_type": "code",
   "execution_count": 80,
   "metadata": {},
   "outputs": [],
   "source": [
    "# Train-Test split\n",
    "# NOTE: we don't use the y for training; just want associated correctly\n",
    "train_x, val_x, train_y, val_y = train_test_split(x_data, y_data, test_size=0.2, random_state=0)"
   ]
  },
  {
   "cell_type": "code",
   "execution_count": 156,
   "metadata": {},
   "outputs": [],
   "source": [
    "class FullyConnectedWithTime(eqx.Module):\n",
    "    \"\"\"A simple model with multiple fully connected layers and some Fourier features for the time\n",
    "    variable.\n",
    "    \"\"\"\n",
    "\n",
    "    mlp: eqx.nn.MLP\n",
    "\n",
    "    def __init__(self, in_size: int, key: PRNGKeyArray):\n",
    "        key1, key2 = jax.random.split(key)\n",
    "        self.mlp = eqx.nn.MLP(\n",
    "            in_size + 4,  # Input size plus Fourier features for time\n",
    "            in_size,  # Output size is the same as input size\n",
    "            width_size=1024,  # Hidden layer width\n",
    "            depth=2,  # Number of hidden layers\n",
    "            activation=jax.nn.relu,\n",
    "            key=key1,\n",
    "        )\n",
    "\n",
    "    def __call__(self, x: jnp.ndarray, t: jnp.ndarray) -> jnp.ndarray:\n",
    "        t_fourier = jnp.array(\n",
    "            [t - 0.5, jnp.cos(2 * jnp.pi * t), jnp.sin(2 * jnp.pi * t), -jnp.cos(4 * jnp.pi * t)]\n",
    "        )\n",
    "        x = jnp.concatenate([x, t_fourier])\n",
    "        return self.mlp(x)\n",
    "\n",
    "\n",
    "def single_loss_fn(model, weight, int_beta, data, t, key):\n",
    "    mean = data * jnp.exp(-0.5 * int_beta(t))\n",
    "    var = jnp.maximum(1 - jnp.exp(-int_beta(t)), 1e-5)\n",
    "    std = jnp.sqrt(var)\n",
    "    noise = jr.normal(key, data.shape)\n",
    "    y = mean + std * noise\n",
    "    pred = model(y, t)\n",
    "    return weight(t) * jnp.mean((pred + noise / std) ** 2)\n",
    "\n",
    "\n",
    "def batch_loss_fn(model, weight, int_beta, data, t1, key):\n",
    "    batch_size = data.shape[0]\n",
    "    tkey, losskey = jr.split(key)\n",
    "    losskey = jr.split(losskey, batch_size)\n",
    "    # Low-discrepancy sampling over t to reduce variance\n",
    "    t = jr.uniform(tkey, (batch_size,), minval=0, maxval=t1 / batch_size)\n",
    "    t = t + (t1 / batch_size) * jnp.arange(batch_size)\n",
    "    loss_fn = ft.partial(single_loss_fn, model, weight, int_beta)\n",
    "    loss_fn = jax.vmap(loss_fn)\n",
    "    return jnp.mean(loss_fn(data, t, losskey))\n",
    "\n",
    "\n",
    "@eqx.filter_jit\n",
    "def single_sample_fn(model, int_beta, data_shape, dt0, t1, key):\n",
    "    def drift(t, y, args):\n",
    "        _, beta = jax.jvp(int_beta, (t,), (jnp.ones_like(t),))\n",
    "        return -0.5 * beta * (y + model(y, t))\n",
    "\n",
    "    term = dfx.ODETerm(drift)\n",
    "    solver = dfx.Tsit5()\n",
    "    t0 = 0\n",
    "    y1 = jr.normal(key, data_shape)\n",
    "    # reverse time, solve from t1 to t0\n",
    "    sol = dfx.diffeqsolve(term, solver, t1, t0, -dt0, y1)\n",
    "    return sol.ys[0]\n",
    "\n",
    "\n",
    "def dataloader(data, batch_size, *, key):\n",
    "    dataset_size = data.shape[0]\n",
    "    indices = jnp.arange(dataset_size)\n",
    "    while True:\n",
    "        key, subkey = jr.split(key, 2)\n",
    "        perm = jr.permutation(subkey, indices)\n",
    "        start = 0\n",
    "        end = batch_size\n",
    "        while end < dataset_size:\n",
    "            batch_perm = perm[start:end]\n",
    "            yield data[batch_perm]\n",
    "            start = end\n",
    "            end = start + batch_size\n",
    "\n",
    "\n",
    "@eqx.filter_jit\n",
    "def make_step(model, weight, int_beta, data, t1, key, opt_state, opt_update):\n",
    "    loss_fn = eqx.filter_value_and_grad(batch_loss_fn)\n",
    "    loss, grads = loss_fn(model, weight, int_beta, data, t1, key)\n",
    "    updates, opt_state = opt_update(grads, opt_state)\n",
    "    model = eqx.apply_updates(model, updates)\n",
    "    key = jr.split(key, 1)[0]\n",
    "    return loss, model, key, opt_state"
   ]
  },
  {
   "cell_type": "code",
   "execution_count": 212,
   "metadata": {},
   "outputs": [
    {
     "name": "stdout",
     "output_type": "stream",
     "text": [
      "Step=00000\t|\tTrain Loss=1.0226\t|\tVal Loss=0.9978\n",
      "Step=01000\t|\tTrain Loss=0.1191\t|\tVal Loss=0.0878\n",
      "Step=02000\t|\tTrain Loss=0.0724\t|\tVal Loss=0.0680\n",
      "Step=03000\t|\tTrain Loss=0.0593\t|\tVal Loss=0.0568\n",
      "Step=04000\t|\tTrain Loss=0.0510\t|\tVal Loss=0.0500\n",
      "Step=05000\t|\tTrain Loss=0.0453\t|\tVal Loss=0.0436\n",
      "Step=06000\t|\tTrain Loss=0.0412\t|\tVal Loss=0.0410\n",
      "Step=07000\t|\tTrain Loss=0.0385\t|\tVal Loss=0.0384\n",
      "Step=08000\t|\tTrain Loss=0.0365\t|\tVal Loss=0.0368\n",
      "Step=09000\t|\tTrain Loss=0.0350\t|\tVal Loss=0.0349\n",
      "Step=10000\t|\tTrain Loss=0.0336\t|\tVal Loss=0.0340\n",
      "Step=11000\t|\tTrain Loss=0.0326\t|\tVal Loss=0.0326\n",
      "Step=12000\t|\tTrain Loss=0.0318\t|\tVal Loss=0.0323\n",
      "Step=13000\t|\tTrain Loss=0.0311\t|\tVal Loss=0.0317\n",
      "Step=14000\t|\tTrain Loss=0.0303\t|\tVal Loss=0.0304\n",
      "Step=15000\t|\tTrain Loss=0.0298\t|\tVal Loss=0.0307\n",
      "Step=16000\t|\tTrain Loss=0.0292\t|\tVal Loss=0.0303\n",
      "Step=17000\t|\tTrain Loss=0.0289\t|\tVal Loss=0.0294\n",
      "Step=18000\t|\tTrain Loss=0.0287\t|\tVal Loss=0.0291\n",
      "Step=19000\t|\tTrain Loss=0.0281\t|\tVal Loss=0.0288\n",
      "Step=20000\t|\tTrain Loss=0.0280\t|\tVal Loss=0.0283\n",
      "Step=21000\t|\tTrain Loss=0.0275\t|\tVal Loss=0.0281\n",
      "Step=22000\t|\tTrain Loss=0.0272\t|\tVal Loss=0.0285\n",
      "Step=23000\t|\tTrain Loss=0.0271\t|\tVal Loss=0.0274\n",
      "Step=24000\t|\tTrain Loss=0.0267\t|\tVal Loss=0.0279\n",
      "Step=25000\t|\tTrain Loss=0.0266\t|\tVal Loss=0.0279\n",
      "Step=26000\t|\tTrain Loss=0.0264\t|\tVal Loss=0.0278\n",
      "Step=27000\t|\tTrain Loss=0.0262\t|\tVal Loss=0.0267\n",
      "Step=28000\t|\tTrain Loss=0.0261\t|\tVal Loss=0.0270\n",
      "Step=29000\t|\tTrain Loss=0.0258\t|\tVal Loss=0.0270\n",
      "Step=30000\t|\tTrain Loss=0.0258\t|\tVal Loss=0.0264\n",
      "Step=31000\t|\tTrain Loss=0.0256\t|\tVal Loss=0.0264\n",
      "Step=32000\t|\tTrain Loss=0.0254\t|\tVal Loss=0.0259\n",
      "Step=33000\t|\tTrain Loss=0.0253\t|\tVal Loss=0.0261\n",
      "Step=34000\t|\tTrain Loss=0.0251\t|\tVal Loss=0.0254\n",
      "Step=35000\t|\tTrain Loss=0.0250\t|\tVal Loss=0.0253\n",
      "Step=36000\t|\tTrain Loss=0.0248\t|\tVal Loss=0.0252\n",
      "Step=37000\t|\tTrain Loss=0.0247\t|\tVal Loss=0.0257\n",
      "Step=38000\t|\tTrain Loss=0.0247\t|\tVal Loss=0.0257\n",
      "Step=39000\t|\tTrain Loss=0.0246\t|\tVal Loss=0.0258\n",
      "Step=39999\t|\tTrain Loss=0.0244\t|\tVal Loss=0.0254\n"
     ]
    }
   ],
   "source": [
    "t1=10.0\n",
    "# Optimisation hyperparameters\n",
    "num_steps=40_000\n",
    "lr=3e-4\n",
    "batch_size=256\n",
    "print_every=1_000\n",
    "val_every=100\n",
    "# Sampling hyperparameters\n",
    "dt0=0.1\n",
    "sample_size=10\n",
    "# Seed\n",
    "seed=5678\n",
    "\n",
    "key = jr.PRNGKey(seed)\n",
    "model_key, train_key, loader_key, sample_key = jr.split(key, 4)\n",
    "\n",
    "data = train_x\n",
    "data_mean = jnp.mean(data, axis=0)\n",
    "data_std = jnp.std(data, axis=0)\n",
    "data_min = jnp.min(data, axis=0)\n",
    "data_max = jnp.max(data, axis=0)\n",
    "data = jnp.nan_to_num((data - data_mean) / data_std, nan=0.0)\n",
    "\n",
    "val_data = jnp.nan_to_num((val_x - data_mean) / data_std, nan=0.0)\n",
    "\n",
    "model = FullyConnectedWithTime(data.shape[1], key=model_key)\n",
    "int_beta = lambda t: t  # You can experiment with other functions here\n",
    "weight = lambda t: 1 - jnp.exp(-int_beta(t))  # Just chosen to upweight the region near t=0.\n",
    "\n",
    "opt = optax.adabelief(lr)\n",
    "opt_state = opt.init(eqx.filter(model, eqx.is_inexact_array))\n",
    "\n",
    "total_value = 0\n",
    "total_size = 0\n",
    "for step, data_ in zip(range(num_steps), dataloader(data, batch_size, key=loader_key)):\n",
    "    value, model, train_key, opt_state = make_step(\n",
    "        model, weight, int_beta, data_, t1, train_key, opt_state, opt.update\n",
    "    )\n",
    "    total_value += value.item()\n",
    "    total_size += 1\n",
    "    if (step % print_every) == 0 or step == num_steps - 1:\n",
    "        key, sub_key = jr.split(key)\n",
    "        val_loss = batch_loss_fn(model, weight, int_beta, val_data, t1, sub_key)\n",
    "\n",
    "        print(\n",
    "            f\"Step={step:05}\",\n",
    "            f\"Train Loss={total_value / total_size:.4f}\",\n",
    "            f\"Val Loss={val_loss:.4f}\",\n",
    "            sep=\"\\t|\\t\"\n",
    "        )\n",
    "\n",
    "        total_value = 0\n",
    "        total_size = 0"
   ]
  },
  {
   "cell_type": "code",
   "execution_count": 215,
   "metadata": {},
   "outputs": [],
   "source": [
    "key = jr.PRNGKey(seed)\n",
    "model_key, train_key, loader_key, sample_key = jr.split(key, 4)\n",
    "sample_key = jr.split(sample_key, sample_size**2)\n",
    "sample_fn = ft.partial(single_sample_fn, model, int_beta, data_shape, dt0, t1)\n",
    "sample = jax.vmap(sample_fn)(sample_key)\n",
    "sample = data_mean + data_std * sample\n",
    "sample = jnp.clip(sample, data_min, data_max)\n"
   ]
  },
  {
   "cell_type": "code",
   "execution_count": 234,
   "metadata": {},
   "outputs": [
    {
     "data": {
      "image/png": "[encoded data removed]",
      "text/plain": [
       "<Figure size 640x480 with 1 Axes>"
      ]
     },
     "metadata": {},
     "output_type": "display_data"
    }
   ],
   "source": [
    "plt.plot(sample[2])  # Example plot for a single sample\n",
    "plt.show()"
   ]
  },
  {
   "cell_type": "code",
   "execution_count": 231,
   "metadata": {},
   "outputs": [
    {
     "data": {
      "image/png": "[encoded data removed]",
      "text/plain": [
       "<Figure size 640x480 with 1 Axes>"
      ]
     },
     "metadata": {},
     "output_type": "display_data"
    }
   ],
   "source": [
    "plt.plot(train_x[74])  # Example plot for a single sample\n",
    "plt.show()"
   ]
  }
 ],
 "metadata": {
  "kernelspec": {
   "display_name": ".venv",
   "language": "python",
   "name": "python3"
  },
  "language_info": {
   "codemirror_mode": {
    "name": "ipython",
    "version": 3
   },
   "file_extension": ".py",
   "mimetype": "text/x-python",
   "name": "python",
   "nbconvert_exporter": "python",
   "pygments_lexer": "ipython3",
   "version": "3.12.5"
  }
 },
 "nbformat": 4,
 "nbformat_minor": 2
}
